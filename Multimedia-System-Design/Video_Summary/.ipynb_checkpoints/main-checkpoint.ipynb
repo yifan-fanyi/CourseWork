{
 "cells": [
  {
   "cell_type": "code",
   "execution_count": 1,
   "metadata": {},
   "outputs": [],
   "source": [
    "import numpy as np\n",
    "import os\n",
    "import cv2\n",
    "import matplotlib\n",
    "matplotlib.use('TkAgg')\n",
    "from matplotlib import pyplot as plt\n",
    "%matplotlib inline\n",
    "from ipywidgets import interact, widgets\n",
    "import IPython.display as ipd\n",
    "\n",
    "from core.utli import *\n",
    "from core.loader import *\n",
    "from core.audio_summary import *\n",
    "from core.video_summary import *"
   ]
  },
  {
   "cell_type": "code",
   "execution_count": 2,
   "metadata": {},
   "outputs": [],
   "source": [
    "# Modified from:\n",
    "#   https://github.com/kkroening/ffmpeg-python/blob/master/examples/README.md#convert-video-to-numpy-array\n",
    "def show_frame(video):\n",
    "    @interact(frame=(0,video.shape[0]-1), jump2frame='0', jump=False)\n",
    "    def show(frame=0, jump2frame=0, jump=False):\n",
    "        if jump == True:\n",
    "            if (int)(jump2frame) >=0 and (int)(jump2frame) < video.shape[0]:\n",
    "                frame = (int)(jump2frame)\n",
    "            else:\n",
    "                print(\"Input frame ID should be in range [%d, %d]\"%(0, video.shape[0]-1))\n",
    "        plt.figure(figsize=(12,12))\n",
    "        plt.imshow(video[frame,:,:,:])"
   ]
  },
  {
   "cell_type": "code",
   "execution_count": 3,
   "metadata": {},
   "outputs": [],
   "source": [
    "@Time\n",
    "def count_frame():\n",
    "    n_frames = 0\n",
    "    while 1:\n",
    "        try:\n",
    "            x = cv2.imread('./cache/frames/'+str(n_frames)+'.jpg')\n",
    "            x.shape\n",
    "            n_frames += 1\n",
    "        except:\n",
    "            break\n",
    "    return n_frames   \n",
    "\n",
    "@Time\n",
    "def main(name='test', \n",
    "        mode=2,\n",
    "        keeprate=90/540, \n",
    "        fps=30, \n",
    "        n_frames=-1, \n",
    "        clean=True, \n",
    "        israw=False, \n",
    "        raw_par={'folder':'test', 'H':352,'W':288, 'prefix':'Image'}):\n",
    "    print('************************************************************')\n",
    "    if israw == True:\n",
    "        print(\" Converting raw to jpg...\")\n",
    "        os.system(\"mkdir ./data/\"+name+'/')\n",
    "        n_frames = raw2jpg(path='./data/'+folder+'/', name=raw_par['pre_fix'], out_path='./data/'+name+'/', H=raw_par['H'], W=raw_par['W']) \n",
    "    available = False\n",
    "    hr = False\n",
    "    \n",
    "    if clean == True:\n",
    "        print(\" Cleaning cache and setup working dir...\")\n",
    "        clean_cache(name, hr, mode)\n",
    "    if available == True:\n",
    "        print(\" Copy availabled feature to working dir...\")\n",
    "        os.system(\"cp -r ./data/\"+name+\"/keypoint ./cache\" )\n",
    "        os.system(\"cp -r ./data/\"+name+\"/seg_mask ./cache\" )\n",
    "    if n_frames < 0:\n",
    "        print('   Counting frames...')\n",
    "        n_frames = count_frame()\n",
    "        print('    %7d frames counted'%n_frames)\n",
    "    print(\" START\")\n",
    "    isSeg = video_summary(n_frames, keeprate, mode=mode, available=available)\n",
    "    fs, audio = load_audio('./data/'+name+'.wav')\n",
    "    audio_summary(audio, isSeg, fs, fps, return_array=False)\n",
    "    print(\" DONE\")\n",
    "    #print(\" Copy the result from ./cache to ./result ...\")\n",
    "    #os.system(\"cp -r ./cache/result/ ./result/\"+name+'_mode='+str(mode))\n",
    "    print('************************************************************')"
   ]
  },
  {
   "cell_type": "code",
   "execution_count": null,
   "metadata": {
    "scrolled": true
   },
   "outputs": [],
   "source": [
    "main(name='test_video', mode=2, n_frames=16200, clean=True)"
   ]
  },
  {
   "cell_type": "code",
   "execution_count": null,
   "metadata": {},
   "outputs": [],
   "source": []
  }
 ],
 "metadata": {
  "kernelspec": {
   "display_name": "Python 3",
   "language": "python",
   "name": "python3"
  },
  "language_info": {
   "codemirror_mode": {
    "name": "ipython",
    "version": 3
   },
   "file_extension": ".py",
   "mimetype": "text/x-python",
   "name": "python",
   "nbconvert_exporter": "python",
   "pygments_lexer": "ipython3",
   "version": "3.7.9"
  }
 },
 "nbformat": 4,
 "nbformat_minor": 4
}
