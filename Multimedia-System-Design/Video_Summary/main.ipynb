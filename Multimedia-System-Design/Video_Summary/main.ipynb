{
 "cells": [
  {
   "cell_type": "code",
   "execution_count": 1,
   "metadata": {},
   "outputs": [],
   "source": [
    "# 2021.05.02\n",
    "# @yifan\n",
    "#\n",
    "import numpy as np\n",
    "import os\n",
    "import cv2\n",
    "import matplotlib\n",
    "matplotlib.use('TkAgg')\n",
    "from matplotlib import pyplot as plt\n",
    "%matplotlib inline\n",
    "from ipywidgets import interact, widgets\n",
    "import IPython.display as ipd\n",
    "\n",
    "from core.utli import *\n",
    "from core.loader import *\n",
    "from core.audio_summary import *\n",
    "from core.video_summary import *\n",
    "from main import *"
   ]
  },
  {
   "cell_type": "code",
   "execution_count": 2,
   "metadata": {},
   "outputs": [],
   "source": [
    "# Modified from:\n",
    "#   https://github.com/kkroening/ffmpeg-python/blob/master/examples/README.md#convert-video-to-numpy-array\n",
    "def show_frame(video):\n",
    "    @interact(frame=(0,video.shape[0]-1), jump2frame='0', jump=False)\n",
    "    def show(frame=0, jump2frame=0, jump=False):\n",
    "        if jump == True:\n",
    "            if (int)(jump2frame) >=0 and (int)(jump2frame) < video.shape[0]:\n",
    "                frame = (int)(jump2frame)\n",
    "            else:\n",
    "                print(\"Input frame ID should be in range [%d, %d]\"%(0, video.shape[0]-1))\n",
    "        plt.figure(figsize=(12,12))\n",
    "        plt.imshow(video[frame,:,:,:])"
   ]
  },
  {
   "cell_type": "code",
   "execution_count": null,
   "metadata": {
    "scrolled": true
   },
   "outputs": [
    {
     "name": "stdout",
     "output_type": "stream",
     "text": [
      "************************************************************\n",
      " Cleaning cache and setup working dir...\n",
      " START\n",
      "       <Info> keeprate = 0.1667\n",
      "       <Mode> Select by Keypoints & SSIM!\n",
      " Running cmd... : \n",
      "      python3 fast_gen.py SSIM 0 4050 0 & python3 fast_gen.py SSIM 4049 8100 1 & python3 fast_gen.py SSIM 8099 12150 2 & python3 fast_gen.py SSIM 12149 16200 3\n"
     ]
    },
    {
     "name": "stderr",
     "output_type": "stream",
     "text": [
      "  0% (1 of 16200) |                      | Elapsed Time: 0:00:00 ETA:   0:30:18"
     ]
    },
    {
     "name": "stdout",
     "output_type": "stream",
     "text": [
      " Finish running cmd!\n",
      "   <RunTime> fast_ssim: 326.0 s\n",
      "16200\n"
     ]
    },
    {
     "name": "stderr",
     "output_type": "stream",
     "text": [
      " 75% (12175 of 16200) |#############     | Elapsed Time: 0:02:18 ETA:   0:00:19"
     ]
    }
   ],
   "source": [
    "main(name='test_video', mode=2, n_frames=16200, clean=True)"
   ]
  },
  {
   "cell_type": "code",
   "execution_count": null,
   "metadata": {},
   "outputs": [],
   "source": []
  }
 ],
 "metadata": {
  "kernelspec": {
   "display_name": "Python 3",
   "language": "python",
   "name": "python3"
  },
  "language_info": {
   "codemirror_mode": {
    "name": "ipython",
    "version": 3
   },
   "file_extension": ".py",
   "mimetype": "text/x-python",
   "name": "python",
   "nbconvert_exporter": "python",
   "pygments_lexer": "ipython3",
   "version": "3.7.9"
  }
 },
 "nbformat": 4,
 "nbformat_minor": 4
}
